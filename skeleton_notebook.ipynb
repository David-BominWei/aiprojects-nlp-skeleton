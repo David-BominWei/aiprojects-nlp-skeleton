{
  "cells": [
    {
      "cell_type": "markdown",
      "metadata": {
        "id": "ZoB7aYZ4qG83"
      },
      "source": [
        "# Code for running model on Colab\n",
        "\n",
        "If you are running this notebook **locally**, make sure you use the python associated with the `conda` environment you created for this project. \\\n",
        "If you are running this notebook on **Google Colab**, make sure you are using a GPU runtime."
      ]
    },
    {
      "cell_type": "markdown",
      "source": [
        "STRONGLY RECOMMENDED: Upload the large embeddings and data file to your google drive. Then you can mount your google drive and quickly access the files (rather than having to upload them, which takes a long time)"
      ],
      "metadata": {
        "id": "qiQ9Qe0D3is-"
      }
    },
    {
      "cell_type": "code",
      "source": [
        "from google.colab import drive\n",
        "drive.mount('/content/drive')"
      ],
      "metadata": {
        "id": "InYLqeyyKggx",
        "outputId": "48a47817-c12d-4b38-a091-ad566b7b30c8",
        "colab": {
          "base_uri": "https://localhost:8080/"
        }
      },
      "execution_count": 13,
      "outputs": [
        {
          "output_type": "stream",
          "name": "stdout",
          "text": [
            "Mounted at /content/drive\n"
          ]
        }
      ]
    },
    {
      "cell_type": "code",
      "source": [
        " # change this folder name (\"ACM_AI_Projects_Fall_23\") to whichever folder your files are in\n",
        "data_folder = \"/content/drive/MyDrive/ACM_AI_Projects_Fall_23\"\n",
        "embs_file = f\"{data_folder}/glove.6B.50d.txt\"\n",
        "data_file = f\"{data_folder}/train.csv\""
      ],
      "metadata": {
        "id": "uOGmFX_IKpd3"
      },
      "execution_count": 14,
      "outputs": []
    },
    {
      "cell_type": "code",
      "source": [
        "# Use this code to quickly delete the project folder\n",
        "# (nice for when you want to push a commit and use it without disconnecting your colab session)\n",
        "# %cd ..\n",
        "# !rm -r sentiment_analysis_ml/"
      ],
      "metadata": {
        "id": "BRkP4hAQyGkl",
        "outputId": "30e8559b-a60b-4da8-e5fb-d9b4aca55598",
        "colab": {
          "base_uri": "https://localhost:8080/"
        }
      },
      "execution_count": 25,
      "outputs": [
        {
          "output_type": "stream",
          "name": "stdout",
          "text": [
            "/content\n"
          ]
        }
      ]
    },
    {
      "cell_type": "markdown",
      "source": [
        "Clone the repo"
      ],
      "metadata": {
        "id": "ActGlVJK5VVT"
      }
    },
    {
      "cell_type": "code",
      "source": [
        "!git clone https://github.com/petern48/sentiment_analysis_ml.git\n",
        "%cd sentiment_analysis_ml"
      ],
      "metadata": {
        "id": "Y_z3tsQ_qHws"
      },
      "execution_count": null,
      "outputs": []
    },
    {
      "cell_type": "markdown",
      "source": [
        "Run the program to train the model.  \n",
        "Note: we provide the paths to the files in the mounted drive for faster access to the large files to avoid having to upload them which takes a long time."
      ],
      "metadata": {
        "id": "IdsnxaO05Xmm"
      }
    },
    {
      "cell_type": "code",
      "source": [
        "!python main.py --embs_path $embs_file --data_file $data_file"
      ],
      "metadata": {
        "id": "TUnX0tm_qQcl"
      },
      "execution_count": null,
      "outputs": []
    },
    {
      "cell_type": "markdown",
      "source": [
        "Download your trained model file.  \n",
        "Recommended: Run this cell along with the above one, so the file will automatically download whenever the program is done running. Nice so you forget to download before your Colab session ends"
      ],
      "metadata": {
        "id": "TxUtwR7c6nLi"
      }
    },
    {
      "cell_type": "code",
      "source": [
        "from google.colab import files\n",
        "import os\n",
        "dir = 'pretrained'\n",
        "file = os.path.join(dir, os.listdir(dir)[0])\n",
        "files.download(file)"
      ],
      "metadata": {
        "id": "Da8LVXkoqUub"
      },
      "execution_count": null,
      "outputs": []
    }
  ],
  "metadata": {
    "kernelspec": {
      "display_name": "Python 3",
      "name": "python3"
    },
    "language_info": {
      "codemirror_mode": {
        "name": "ipython",
        "version": 3
      },
      "file_extension": ".py",
      "mimetype": "text/x-python",
      "name": "python",
      "nbconvert_exporter": "python",
      "pygments_lexer": "ipython3",
      "version": "3.11.4"
    },
    "colab": {
      "provenance": [],
      "gpuType": "T4"
    },
    "accelerator": "GPU"
  },
  "nbformat": 4,
  "nbformat_minor": 0
}