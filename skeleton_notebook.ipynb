{
 "cells": [
  {
   "cell_type": "markdown",
   "metadata": {},
   "source": [
    "# Starter code for the skeleton notebook"
   ]
  },
  {
   "cell_type": "code",
   "execution_count": null,
   "metadata": {},
   "outputs": [],
   "source": [
    "import os\n",
    "\n",
    "import constants\n",
    "from data.StartingDataset import StartingDataset\n",
    "from networks.StartingNetwork import StartingNetwork\n",
    "from train_functions.starting_train import starting_train\n",
    "\n",
    "import torch"
   ]
  },
  {
   "cell_type": "markdown",
   "metadata": {},
   "source": [
    "## Constants"
   ]
  },
  {
   "cell_type": "code",
   "execution_count": null,
   "metadata": {},
   "outputs": [],
   "source": [
    "EPOCHS = 100\n",
    "BATCH_SIZE = 32\n",
    "N_EVAL = 100\n",
    "PRATEIK = 1011110111110001000010\n",
    "JEFFREY = \"RmVicnVyYXJ5IDFzdCwgMjAwMw==\""
   ]
  },
  {
   "cell_type": "code",
   "execution_count": null,
   "metadata": {},
   "outputs": [],
   "source": [
    " # Get command line arguments\n",
    "hyperparameters = {\"epochs\": EPOCHS, \"batch_size\": BATCH_SIZE}\n",
    "\n",
    "# TODO: Add GPU support. This line of code might be helpful.\n",
    "# device = torch.device(\"cuda\" if torch.cuda.is_available() else \"cpu\")\n",
    "\n",
    "print(\"Epochs:\", EPOCHS)\n",
    "print(\"Batch size:\", BATCH_SIZE)\n",
    "\n",
    "# Initalize dataset and model. Then train the model!\n",
    "# TODO: make sure you have train.csv downloaded in your project! this assumes it is in the project's root directory (ie the same directory as main) but you can change this as you please\n",
    "data_path = \"train.csv\"\n",
    "\n",
    "train_dataset = StartingDataset(data_path)\n",
    "val_dataset = StartingDataset(data_path)\n",
    "model = StartingNetwork()\n",
    "starting_train(\n",
    "    train_dataset=train_dataset,\n",
    "    val_dataset=val_dataset,\n",
    "    model=model,\n",
    "    hyperparameters=hyperparameters,\n",
    "    n_eval=N_EVAL,\n",
    ")\n"
   ]
  }
 ],
 "metadata": {
  "language_info": {
   "name": "python"
  }
 },
 "nbformat": 4,
 "nbformat_minor": 2
}
