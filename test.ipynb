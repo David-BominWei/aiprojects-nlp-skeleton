{
 "cells": [
  {
   "cell_type": "code",
   "execution_count": 8,
   "metadata": {},
   "outputs": [
    {
     "data": {
      "text/html": [
       "<div>\n",
       "<style scoped>\n",
       "    .dataframe tbody tr th:only-of-type {\n",
       "        vertical-align: middle;\n",
       "    }\n",
       "\n",
       "    .dataframe tbody tr th {\n",
       "        vertical-align: top;\n",
       "    }\n",
       "\n",
       "    .dataframe thead th {\n",
       "        text-align: right;\n",
       "    }\n",
       "</style>\n",
       "<table border=\"1\" class=\"dataframe\">\n",
       "  <thead>\n",
       "    <tr style=\"text-align: right;\">\n",
       "      <th></th>\n",
       "      <th>qid</th>\n",
       "      <th>question_text</th>\n",
       "      <th>target</th>\n",
       "      <th>question_text_list</th>\n",
       "    </tr>\n",
       "  </thead>\n",
       "  <tbody>\n",
       "    <tr>\n",
       "      <th>0</th>\n",
       "      <td>00002165364db923c7e6</td>\n",
       "      <td>How did Quebec nationalists see their province...</td>\n",
       "      <td>0</td>\n",
       "      <td>[How, did, Quebec, nationalists, see, their, p...</td>\n",
       "    </tr>\n",
       "    <tr>\n",
       "      <th>1</th>\n",
       "      <td>000032939017120e6e44</td>\n",
       "      <td>Do you have an adopted dog, how would you enco...</td>\n",
       "      <td>0</td>\n",
       "      <td>[Do, you, have, an, adopted, dog,, how, would,...</td>\n",
       "    </tr>\n",
       "    <tr>\n",
       "      <th>2</th>\n",
       "      <td>0000412ca6e4628ce2cf</td>\n",
       "      <td>Why does velocity affect time? Does velocity a...</td>\n",
       "      <td>0</td>\n",
       "      <td>[Why, does, velocity, affect, time?, Does, vel...</td>\n",
       "    </tr>\n",
       "    <tr>\n",
       "      <th>3</th>\n",
       "      <td>000042bf85aa498cd78e</td>\n",
       "      <td>How did Otto von Guericke used the Magdeburg h...</td>\n",
       "      <td>0</td>\n",
       "      <td>[How, did, Otto, von, Guericke, used, the, Mag...</td>\n",
       "    </tr>\n",
       "    <tr>\n",
       "      <th>4</th>\n",
       "      <td>0000455dfa3e01eae3af</td>\n",
       "      <td>Can I convert montra helicon D to a mountain b...</td>\n",
       "      <td>0</td>\n",
       "      <td>[Can, I, convert, montra, helicon, D, to, a, m...</td>\n",
       "    </tr>\n",
       "    <tr>\n",
       "      <th>...</th>\n",
       "      <td>...</td>\n",
       "      <td>...</td>\n",
       "      <td>...</td>\n",
       "      <td>...</td>\n",
       "    </tr>\n",
       "    <tr>\n",
       "      <th>1306117</th>\n",
       "      <td>ffffcc4e2331aaf1e41e</td>\n",
       "      <td>What other technical skills do you need as a c...</td>\n",
       "      <td>0</td>\n",
       "      <td>[What, other, technical, skills, do, you, need...</td>\n",
       "    </tr>\n",
       "    <tr>\n",
       "      <th>1306118</th>\n",
       "      <td>ffffd431801e5a2f4861</td>\n",
       "      <td>Does MS in ECE have good job prospects in USA ...</td>\n",
       "      <td>0</td>\n",
       "      <td>[Does, MS, in, ECE, have, good, job, prospects...</td>\n",
       "    </tr>\n",
       "    <tr>\n",
       "      <th>1306119</th>\n",
       "      <td>ffffd48fb36b63db010c</td>\n",
       "      <td>Is foam insulation toxic?</td>\n",
       "      <td>0</td>\n",
       "      <td>[Is, foam, insulation, toxic?]</td>\n",
       "    </tr>\n",
       "    <tr>\n",
       "      <th>1306120</th>\n",
       "      <td>ffffec519fa37cf60c78</td>\n",
       "      <td>How can one start a research project based on ...</td>\n",
       "      <td>0</td>\n",
       "      <td>[How, can, one, start, a, research, project, b...</td>\n",
       "    </tr>\n",
       "    <tr>\n",
       "      <th>1306121</th>\n",
       "      <td>ffffed09fedb5088744a</td>\n",
       "      <td>Who wins in a battle between a Wolverine and a...</td>\n",
       "      <td>0</td>\n",
       "      <td>[Who, wins, in, a, battle, between, a, Wolveri...</td>\n",
       "    </tr>\n",
       "  </tbody>\n",
       "</table>\n",
       "<p>1306122 rows × 4 columns</p>\n",
       "</div>"
      ],
      "text/plain": [
       "                          qid  \\\n",
       "0        00002165364db923c7e6   \n",
       "1        000032939017120e6e44   \n",
       "2        0000412ca6e4628ce2cf   \n",
       "3        000042bf85aa498cd78e   \n",
       "4        0000455dfa3e01eae3af   \n",
       "...                       ...   \n",
       "1306117  ffffcc4e2331aaf1e41e   \n",
       "1306118  ffffd431801e5a2f4861   \n",
       "1306119  ffffd48fb36b63db010c   \n",
       "1306120  ffffec519fa37cf60c78   \n",
       "1306121  ffffed09fedb5088744a   \n",
       "\n",
       "                                             question_text  target  \\\n",
       "0        How did Quebec nationalists see their province...       0   \n",
       "1        Do you have an adopted dog, how would you enco...       0   \n",
       "2        Why does velocity affect time? Does velocity a...       0   \n",
       "3        How did Otto von Guericke used the Magdeburg h...       0   \n",
       "4        Can I convert montra helicon D to a mountain b...       0   \n",
       "...                                                    ...     ...   \n",
       "1306117  What other technical skills do you need as a c...       0   \n",
       "1306118  Does MS in ECE have good job prospects in USA ...       0   \n",
       "1306119                          Is foam insulation toxic?       0   \n",
       "1306120  How can one start a research project based on ...       0   \n",
       "1306121  Who wins in a battle between a Wolverine and a...       0   \n",
       "\n",
       "                                        question_text_list  \n",
       "0        [How, did, Quebec, nationalists, see, their, p...  \n",
       "1        [Do, you, have, an, adopted, dog,, how, would,...  \n",
       "2        [Why, does, velocity, affect, time?, Does, vel...  \n",
       "3        [How, did, Otto, von, Guericke, used, the, Mag...  \n",
       "4        [Can, I, convert, montra, helicon, D, to, a, m...  \n",
       "...                                                    ...  \n",
       "1306117  [What, other, technical, skills, do, you, need...  \n",
       "1306118  [Does, MS, in, ECE, have, good, job, prospects...  \n",
       "1306119                     [Is, foam, insulation, toxic?]  \n",
       "1306120  [How, can, one, start, a, research, project, b...  \n",
       "1306121  [Who, wins, in, a, battle, between, a, Wolveri...  \n",
       "\n",
       "[1306122 rows x 4 columns]"
      ]
     },
     "execution_count": 8,
     "metadata": {},
     "output_type": "execute_result"
    }
   ],
   "source": [
    "import pandas as pd\n",
    "\n",
    "data = pd.read_csv(\"train.csv\")\n",
    "data[\"question_text_list\"] = data[\"question_text\"].map(lambda x : x.split())\n",
    "data"
   ]
  },
  {
   "cell_type": "code",
   "execution_count": 11,
   "metadata": {},
   "outputs": [
    {
     "data": {
      "text/plain": [
       "(array([8.60000e+01, 6.22200e+03, 2.22280e+04, 1.19794e+05, 1.04839e+05,\n",
       "        1.22456e+05, 2.40384e+05, 1.00569e+05, 8.65610e+04, 1.33314e+05,\n",
       "        5.04190e+04, 4.26680e+04, 6.71980e+04, 2.62110e+04, 2.27220e+04,\n",
       "        3.73310e+04, 1.58340e+04, 1.37340e+04, 2.29890e+04, 9.19100e+03,\n",
       "        7.88900e+03, 1.23490e+04, 4.85700e+03, 4.09300e+03, 6.78200e+03,\n",
       "        3.00400e+03, 2.77300e+03, 4.81600e+03, 2.26000e+03, 2.07500e+03,\n",
       "        3.62300e+03, 1.44000e+03, 1.12700e+03, 1.90500e+03, 6.41000e+02,\n",
       "        5.18000e+02, 6.81000e+02, 2.19000e+02, 1.21000e+02, 1.29000e+02,\n",
       "        3.30000e+01, 2.10000e+01, 8.00000e+00, 2.00000e+00, 1.00000e+00,\n",
       "        1.00000e+00, 0.00000e+00, 1.00000e+00, 2.00000e+00, 0.00000e+00,\n",
       "        0.00000e+00, 0.00000e+00, 0.00000e+00, 0.00000e+00, 0.00000e+00,\n",
       "        0.00000e+00, 0.00000e+00, 0.00000e+00, 0.00000e+00, 0.00000e+00,\n",
       "        0.00000e+00, 0.00000e+00, 0.00000e+00, 0.00000e+00, 0.00000e+00,\n",
       "        0.00000e+00, 0.00000e+00, 0.00000e+00, 0.00000e+00, 0.00000e+00,\n",
       "        0.00000e+00, 0.00000e+00, 0.00000e+00, 0.00000e+00, 0.00000e+00,\n",
       "        0.00000e+00, 0.00000e+00, 0.00000e+00, 0.00000e+00, 0.00000e+00,\n",
       "        0.00000e+00, 0.00000e+00, 0.00000e+00, 0.00000e+00, 0.00000e+00,\n",
       "        0.00000e+00, 0.00000e+00, 0.00000e+00, 0.00000e+00, 0.00000e+00,\n",
       "        0.00000e+00, 0.00000e+00, 0.00000e+00, 0.00000e+00, 0.00000e+00,\n",
       "        0.00000e+00, 0.00000e+00, 0.00000e+00, 0.00000e+00, 1.00000e+00]),\n",
       " array([  1.  ,   2.33,   3.66,   4.99,   6.32,   7.65,   8.98,  10.31,\n",
       "         11.64,  12.97,  14.3 ,  15.63,  16.96,  18.29,  19.62,  20.95,\n",
       "         22.28,  23.61,  24.94,  26.27,  27.6 ,  28.93,  30.26,  31.59,\n",
       "         32.92,  34.25,  35.58,  36.91,  38.24,  39.57,  40.9 ,  42.23,\n",
       "         43.56,  44.89,  46.22,  47.55,  48.88,  50.21,  51.54,  52.87,\n",
       "         54.2 ,  55.53,  56.86,  58.19,  59.52,  60.85,  62.18,  63.51,\n",
       "         64.84,  66.17,  67.5 ,  68.83,  70.16,  71.49,  72.82,  74.15,\n",
       "         75.48,  76.81,  78.14,  79.47,  80.8 ,  82.13,  83.46,  84.79,\n",
       "         86.12,  87.45,  88.78,  90.11,  91.44,  92.77,  94.1 ,  95.43,\n",
       "         96.76,  98.09,  99.42, 100.75, 102.08, 103.41, 104.74, 106.07,\n",
       "        107.4 , 108.73, 110.06, 111.39, 112.72, 114.05, 115.38, 116.71,\n",
       "        118.04, 119.37, 120.7 , 122.03, 123.36, 124.69, 126.02, 127.35,\n",
       "        128.68, 130.01, 131.34, 132.67, 134.  ]),\n",
       " <BarContainer object of 100 artists>)"
      ]
     },
     "execution_count": 11,
     "metadata": {},
     "output_type": "execute_result"
    },
    {
     "data": {
      "image/png": "[encoded data removed]",
      "text/plain": [
       "<Figure size 640x480 with 1 Axes>"
      ]
     },
     "metadata": {},
     "output_type": "display_data"
    }
   ],
   "source": [
    "from matplotlib import pyplot as plt\n",
    "\n",
    "plt.hist(data[\"question_text_list\"].map(len),bins=100)"
   ]
  },
  {
   "cell_type": "markdown",
   "metadata": {},
   "source": [
    "from"
   ]
  },
  {
   "cell_type": "code",
   "execution_count": 9,
   "metadata": {},
   "outputs": [
    {
     "data": {
      "text/plain": [
       "134"
      ]
     },
     "execution_count": 9,
     "metadata": {},
     "output_type": "execute_result"
    }
   ],
   "source": [
    "max(data[\"question_text_list\"].map(len))"
   ]
  }
 ],
 "metadata": {
  "kernelspec": {
   "display_name": "base",
   "language": "python",
   "name": "python3"
  },
  "language_info": {
   "codemirror_mode": {
    "name": "ipython",
    "version": 3
   },
   "file_extension": ".py",
   "mimetype": "text/x-python",
   "name": "python",
   "nbconvert_exporter": "python",
   "pygments_lexer": "ipython3",
   "version": "3.10.12"
  }
 },
 "nbformat": 4,
 "nbformat_minor": 2
}
